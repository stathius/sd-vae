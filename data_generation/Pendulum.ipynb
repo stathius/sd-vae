{
 "cells": [
  {
   "attachments": {},
   "cell_type": "markdown",
   "metadata": {},
   "source": [
    "# Pendulum"
   ]
  },
  {
   "cell_type": "code",
   "execution_count": 1,
   "metadata": {
    "scrolled": false
   },
   "outputs": [],
   "source": [
    "import numpy as np\n",
    "from scipy.integrate import solve_ivp, odeint\n",
    "import deepdish as dd\n",
    "\n",
    "def pendulum(t, thetas, g, l):\n",
    "    theta, dot_theta = thetas # y0, y1\n",
    "    dots = (dot_theta, -(g/l)*np.sin(theta))\n",
    "    return  dots # y0_dot, y1_dot\n",
    "\n",
    "def create_dataset(n_datapoints, timesteps, dt, angles_bound, length_bound, g):\n",
    "    min_angle, max_angle = angles_bound\n",
    "    min_len, max_len = length_bound\n",
    "    \n",
    "    tmin = 0.0\n",
    "    tmax = timesteps*dt\n",
    "    ts = np.linspace(tmin, tmax, timesteps)\n",
    "\n",
    "    labels = [] # np.empty(n_datapoints) #\n",
    "    cartesian = np.empty((n_datapoints, timesteps, 2)) # 2d of motion\n",
    "    phase_space = np.empty((n_datapoints, timesteps, 2)) # 2 degrees of freedom\n",
    "\n",
    "    for i in range(n_datapoints):\n",
    "        initial_angle = (max_angle - min_angle) * np.random.random_sample() + min_angle \n",
    "        theta0 = np.radians(initial_angle) # initial anglee\n",
    "        omega0 = 0.0 # initial velocity\n",
    "\n",
    "        length = (max_len - min_len) * i/(n_datapoints-1) + min_len\n",
    "        sol = solve_ivp(pendulum, [tmin, tmax], [theta0, omega0], t_eval = ts, args=(g,length))\n",
    "\n",
    "        # save the x, y coordinated of the pendulum\n",
    "        xy = np.zeros_like(sol.y)\n",
    "        xy[0] = length*np.sin(sol.y[0])\n",
    "        xy[1] = length*np.cos(sol.y[0])\n",
    "        cartesian[i] = xy.T\n",
    "\n",
    "        phase_space[i] = sol.y.T\n",
    "\n",
    "        labels.append({'initial_angle': initial_angle, \n",
    "                       'initial_velocity': omega0, \n",
    "                       'gravity': g, \n",
    "                       'length': length})\n",
    "\n",
    "        if i % 500 == 0:\n",
    "            print(i, length, initial_angle)\n",
    "    dataset = {'cartesian': cartesian, 'phase_space': phase_space, 'labels': labels}\n",
    "    return dataset"
   ]
  },
  {
   "attachments": {},
   "cell_type": "markdown",
   "metadata": {},
   "source": [
    "# Train & In-Dist Test Set"
   ]
  },
  {
   "cell_type": "code",
   "execution_count": 5,
   "metadata": {},
   "outputs": [],
   "source": [
    "dt = 0.01\n",
    "timesteps = 2000\n",
    "angles_bound = (10, 170)\n",
    "g = 9.81\n",
    "ang_str = '-'.join([str(a) for a in angles_bound])"
   ]
  },
  {
   "cell_type": "code",
   "execution_count": 21,
   "metadata": {},
   "outputs": [
    {
     "name": "stdout",
     "output_type": "stream",
     "text": [
      "0 1.2 90.0\n",
      "500 1.2500200080032013 90.0\n",
      "1000 1.3000400160064025 90.0\n",
      "1500 1.3500600240096037 90.0\n",
      "2000 1.400080032012805 90.0\n"
     ]
    }
   ],
   "source": [
    "length_bound = (1.0, 1.5)\n",
    "n_datapoints = 10000\n",
    "dataset_train = create_dataset(n_datapoints, timesteps, dt, angles_bound, length_bound, g)\n",
    "len_str = '-'.join([f'{a:.2f}' for a in length_bound])\n",
    "dd.io.save(f'../data/pendulum_n_{n_datapoints}_steps_{timesteps}_dt_{dt}_len_{len_str}_angle_{ang_str}_g_{g}.hd5', dataset_train)"
   ]
  },
  {
   "attachments": {},
   "cell_type": "markdown",
   "metadata": {},
   "source": [
    "# Test set 1"
   ]
  },
  {
   "cell_type": "code",
   "execution_count": null,
   "metadata": {},
   "outputs": [
    {
     "name": "stdout",
     "output_type": "stream",
     "text": [
      "0 0.9 159.09978933331283\n",
      "500 0.95005005005005 78.38651833296461\n"
     ]
    }
   ],
   "source": [
    "length_bound = (0.90, 1.00)\n",
    "n_datapoints = 1000\n",
    "dataset_test1 = create_dataset(n_datapoints, timesteps, dt, angles_bound, length_bound, g)\n",
    "len_str = '-'.join([f'{a:.2f}' for a in length_bound])\n",
    "dd.io.save(f'../data/pendulum_n_{n_datapoints}_steps_{timesteps}_dt_{dt}_len_{len_str}_angle_{ang_str}_g_{g}.hd5', dataset_test1)"
   ]
  },
  {
   "cell_type": "markdown",
   "metadata": {},
   "source": [
    "# Test set 2"
   ]
  },
  {
   "cell_type": "code",
   "execution_count": 7,
   "metadata": {},
   "outputs": [
    {
     "name": "stdout",
     "output_type": "stream",
     "text": [
      "0 1.5 22.093442472969613\n",
      "500 1.55005005005005 59.910835489055486\n"
     ]
    }
   ],
   "source": [
    "length_bound = (1.50, 1.60)\n",
    "n_datapoints = 1000\n",
    "dataset_test2 = create_dataset(n_datapoints, timesteps, dt, angles_bound, length_bound, g)\n",
    "len_str = '-'.join([f'{a:.2f}' for a in length_bound])\n",
    "dd.io.save(f'../data/pendulum_n_{n_datapoints}_steps_{timesteps}_dt_{dt}_len_{len_str}_angle_{ang_str}_g_{g}.hd5', dataset_test2)"
   ]
  }
 ],
 "metadata": {
  "kernelspec": {
   "display_name": "Python 3",
   "language": "python",
   "name": "python3"
  },
  "language_info": {
   "codemirror_mode": {
    "name": "ipython",
    "version": 3
   },
   "file_extension": ".py",
   "mimetype": "text/x-python",
   "name": "python",
   "nbconvert_exporter": "python",
   "pygments_lexer": "ipython3",
   "version": "3.7.10"
  }
 },
 "nbformat": 4,
 "nbformat_minor": 4
}
